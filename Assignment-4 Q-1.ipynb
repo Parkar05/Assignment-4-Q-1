{
 "cells": [
  {
   "cell_type": "code",
   "execution_count": 7,
   "id": "2896371e",
   "metadata": {},
   "outputs": [
    {
     "name": "stdout",
     "output_type": "stream",
     "text": [
      "Enter the value :10\n",
      "The lambda function after adding 25 to a given number is :  35\n"
     ]
    }
   ],
   "source": [
    "#Write a Python program to create a lambda function that adds 25 to a given number passed in as an argument.\n",
    "\n",
    "#sample input: 10\n",
    "#sample output: 35\n",
    "\n",
    "Number = int (input(\"Enter the value :\"))\n",
    "add = lambda Number : Number + 25\n",
    "print (\"The lambda function after adding 25 to a given number is : \",add(Number))"
   ]
  },
  {
   "cell_type": "code",
   "execution_count": 9,
   "id": "2c631bc3",
   "metadata": {},
   "outputs": [
    {
     "name": "stdout",
     "output_type": "stream",
     "text": [
      "Enter the value :10\n",
      "35\n"
     ]
    }
   ],
   "source": [
    "#Write a Python program to create a lambda function that adds 25 to a given number passed in as an argument.\n",
    "#sample input: 10\n",
    "#sample output: 35\n",
    "\n",
    "Number = int (input(\"Enter the value :\"))\n",
    "add = lambda num: num + 25  \n",
    "print( add(Number) )  "
   ]
  }
 ],
 "metadata": {
  "kernelspec": {
   "display_name": "Python 3 (ipykernel)",
   "language": "python",
   "name": "python3"
  },
  "language_info": {
   "codemirror_mode": {
    "name": "ipython",
    "version": 3
   },
   "file_extension": ".py",
   "mimetype": "text/x-python",
   "name": "python",
   "nbconvert_exporter": "python",
   "pygments_lexer": "ipython3",
   "version": "3.9.12"
  }
 },
 "nbformat": 4,
 "nbformat_minor": 5
}
